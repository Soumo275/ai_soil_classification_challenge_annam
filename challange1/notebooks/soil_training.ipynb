{
  "nbformat": 4,
  "nbformat_minor": 0,
  "metadata": {
    "colab": {
      "provenance": [],
      "gpuType": "T4"
    },
    "kernelspec": {
      "name": "python3",
      "display_name": "Python 3"
    },
    "language_info": {
      "name": "python"
    },
    "accelerator": "GPU"
  },
  "cells": [
    {
      "cell_type": "markdown",
      "source": [
        "## training the model using extra trees classifier"
      ],
      "metadata": {
        "id": "DIfo1toqKE8r"
      }
    },
    {
      "cell_type": "code",
      "execution_count": 6,
      "metadata": {
        "id": "qRZn4QP_Itqa"
      },
      "outputs": [],
      "source": [
        "import zipfile\n",
        "import os\n",
        "\n",
        "zip_path = \"soil-classification.zip\"\n",
        "with zipfile.ZipFile(zip_path, 'r') as zip_ref:\n",
        "    zip_ref.extractall(\"soil-classification\")"
      ]
    },
    {
      "cell_type": "markdown",
      "source": [
        "preprocessing"
      ],
      "metadata": {
        "id": "pTQCMHdSKDl0"
      }
    },
    {
      "cell_type": "code",
      "source": [
        "import os       #histogram\n",
        "import cv2\n",
        "import numpy as np\n",
        "import pandas as pd\n",
        "import matplotlib.pyplot as plt\n",
        "from sklearn.preprocessing import LabelEncoder\n",
        "\n",
        "\n",
        "# Paths\n",
        "TRAIN_DIR = '/content/soil-classification/soil_classification-2025/train'\n",
        "CSV_FILE = '/content/soil-classification/soil_classification-2025/train_labels.csv'\n",
        "\n",
        "# Function to extract color histogram features\n",
        "def extract_color_histogram(image_path, bins=(8, 8, 8)):\n",
        "    try:\n",
        "        img = cv2.imread(image_path)\n",
        "        if img is None:\n",
        "            raise ValueError(\"Image not found or cannot be read.\")\n",
        "        img = cv2.resize(img, (224, 224))\n",
        "        img = cv2.cvtColor(img, cv2.COLOR_BGR2RGB)\n",
        "\n",
        "        # Compute color histogram\n",
        "        hist = cv2.calcHist([img], [0, 1, 2], None, bins, [0, 256, 0, 256, 0, 256])\n",
        "        hist = cv2.normalize(hist, hist).flatten()\n",
        "\n",
        "        return hist\n",
        "\n",
        "    except Exception as e:\n",
        "        print(f\"Error: {image_path} => {e}\")\n",
        "        return None\n",
        "\n",
        "df = pd.read_csv(CSV_FILE)\n",
        "features, labels = [], []\n",
        "\n",
        "for _, row in df.iterrows():\n",
        "    img_path = os.path.join(TRAIN_DIR, row['image_id'])\n",
        "    hist = extract_color_histogram(img_path)\n",
        "    if hist is not None:\n",
        "        features.append(hist)\n",
        "        labels.append(row['soil_type'])\n",
        "\n",
        "# convert to numpy array\n",
        "features = np.array(features)\n",
        "\n",
        "# ecoding labels\n",
        "le = LabelEncoder()\n",
        "encoded_labels = le.fit_transform(labels)\n",
        "\n",
        "print(\"Features shape:\", features.shape)\n",
        "print(\"Encoded Labels shape:\", encoded_labels.shape)"
      ],
      "metadata": {
        "colab": {
          "base_uri": "https://localhost:8080/"
        },
        "id": "_-iyfgQEIyR_",
        "outputId": "c0177a63-bb88-48ac-f983-93d731920264"
      },
      "execution_count": 7,
      "outputs": [
        {
          "output_type": "stream",
          "name": "stdout",
          "text": [
            "Features shape: (1222, 512)\n",
            "Encoded Labels shape: (1222,)\n"
          ]
        }
      ]
    },
    {
      "cell_type": "markdown",
      "source": [
        "Extra trees classifier for classification"
      ],
      "metadata": {
        "id": "ueti3VY6J9ia"
      }
    },
    {
      "cell_type": "code",
      "source": [
        "from sklearn.model_selection import train_test_split         #95.10%\n",
        "from sklearn.ensemble import ExtraTreesClassifier\n",
        "from sklearn.metrics import accuracy_score\n",
        "\n",
        "#split\n",
        "X_train, X_test, y_train, y_test = train_test_split(features, encoded_labels, test_size=0.2, random_state=42)\n",
        "\n",
        "# Train Extra Trees Classifier\n",
        "clf = ExtraTreesClassifier(n_estimators=100, random_state=42)\n",
        "clf.fit(X_train, y_train)\n",
        "\n",
        "# Predict\n",
        "y_pred = clf.predict(X_test)\n",
        "\n",
        "# Optional: Evaluate accuracy\n",
        "accuracy = accuracy_score(y_test, y_pred)\n",
        "print(f\"Accuracy: {accuracy * 100:.2f}%\")"
      ],
      "metadata": {
        "colab": {
          "base_uri": "https://localhost:8080/"
        },
        "id": "ZjkYdUIfIz0U",
        "outputId": "cffc9f2a-d691-4cad-c0e5-9a6583f1348a"
      },
      "execution_count": 8,
      "outputs": [
        {
          "output_type": "stream",
          "name": "stdout",
          "text": [
            "Accuracy: 95.10%\n"
          ]
        }
      ]
    },
    {
      "cell_type": "markdown",
      "source": [
        "creating confusion matrix"
      ],
      "metadata": {
        "id": "m_5cj-AAJ7jj"
      }
    },
    {
      "cell_type": "code",
      "source": [
        "from sklearn.metrics import classification_report, confusion_matrix,accuracy_score\n",
        "import matplotlib.pyplot as plt\n",
        "import seaborn as sns\n",
        "\n",
        "print(f\"Test Accuracy: {accuracy_score(y_test, y_pred):.4f}\")\n",
        "# Print classification report for detailed precision, recall, f1-score per class\n",
        "print(\"Classification Report:\\n\", classification_report(y_test, y_pred, target_names=le.classes_))\n",
        "\n",
        "# Confusion Matrix\n",
        "cm = confusion_matrix(y_test, y_pred)\n",
        "plt.figure(figsize=(10, 7))\n",
        "sns.heatmap(cm, annot=True, fmt='d', xticklabels=le.classes_, yticklabels=le.classes_, cmap='Blues')\n",
        "plt.xlabel('Predicted')\n",
        "plt.ylabel('True')\n",
        "plt.title('Confusion Matrix')\n",
        "plt.show()"
      ],
      "metadata": {
        "colab": {
          "base_uri": "https://localhost:8080/",
          "height": 878
        },
        "id": "jAv6EFJYI2Bw",
        "outputId": "b979363b-16d1-4ee6-8332-3c890d69d5cb"
      },
      "execution_count": 9,
      "outputs": [
        {
          "output_type": "stream",
          "name": "stdout",
          "text": [
            "Test Accuracy: 0.9510\n",
            "Classification Report:\n",
            "                precision    recall  f1-score   support\n",
            "\n",
            "Alluvial soil       0.95      0.98      0.97       106\n",
            "   Black Soil       0.88      0.97      0.93        39\n",
            "    Clay soil       1.00      0.83      0.91        48\n",
            "     Red soil       0.96      0.98      0.97        52\n",
            "\n",
            "     accuracy                           0.95       245\n",
            "    macro avg       0.95      0.94      0.94       245\n",
            " weighted avg       0.95      0.95      0.95       245\n",
            "\n"
          ]
        },
        {
          "output_type": "display_data",
          "data": {
            "text/plain": [
              "<Figure size 1000x700 with 2 Axes>"
            ],
            "image/png": "[encoded data removed]"
          },
          "metadata": {}
        }
      ]
    },
    {
      "cell_type": "markdown",
      "source": [
        "saving the model"
      ],
      "metadata": {
        "id": "hev_4URZJ5_i"
      }
    },
    {
      "cell_type": "code",
      "source": [
        "import joblib\n",
        "\n",
        "joblib.dump((clf, le), 'soil_rf_model.joblib')\n",
        "print(\"Fine-tuned Model and LabelEncoder saved at 'soil_rf_model.joblib'\")"
      ],
      "metadata": {
        "colab": {
          "base_uri": "https://localhost:8080/"
        },
        "id": "2wZolxLBI47o",
        "outputId": "aba13e2a-35e9-4a8d-b9d2-0b48d60606c6"
      },
      "execution_count": 10,
      "outputs": [
        {
          "output_type": "stream",
          "name": "stdout",
          "text": [
            "Fine-tuned Model and LabelEncoder saved at 'soil_rf_model.joblib'\n"
          ]
        }
      ]
    }
  ]
}