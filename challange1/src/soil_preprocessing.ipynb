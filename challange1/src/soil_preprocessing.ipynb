{
  "cells": [
    {
      "cell_type": "markdown",
      "metadata": {
        "id": "lOI8H7Z5HLv0"
      },
      "source": [
        "Author: Soumyadip Mukherjee\n",
        "Team Name: Soumo275\n",
        "Team Members: Soumyadip Mukherjee\n",
        "Leaderboard Rank: 47"
      ]
    },
    {
      "cell_type": "markdown",
      "metadata": {
        "id": "VwTxOejGHGW3"
      },
      "source": [
        "in the preprocessing part we are creating the colour histogram for all the images soil images to find out similar patterns later"
      ]
    },
    {
      "cell_type": "code",
      "execution_count": null,
      "metadata": {
        "id": "24-dCH1sG_4b"
      },
      "outputs": [],
      "source": [
        "import zipfile\n",
        "import os\n",
        "\n",
        "zip_path = \"soil-classification.zip\"\n",
        "with zipfile.ZipFile(zip_path, 'r') as zip_ref:\n",
        "    zip_ref.extractall(\"soil-classification\")"
      ]
    },
    {
      "cell_type": "code",
      "execution_count": null,
      "metadata": {
        "id": "qVg3PHKAHB-H"
      },
      "outputs": [],
      "source": [
        "import os       #histogram\n",
        "import cv2\n",
        "import numpy as np\n",
        "import pandas as pd\n",
        "import matplotlib.pyplot as plt\n",
        "from sklearn.preprocessing import LabelEncoder\n",
        "\n",
        "\n",
        "# Paths\n",
        "TRAIN_DIR = '/content/soil-classification/soil_classification-2025/train'\n",
        "CSV_FILE = '/content/soil-classification/soil_classification-2025/train_labels.csv'\n",
        "\n",
        "# Function to extract color histogram features\n",
        "def extract_color_histogram(image_path, bins=(8, 8, 8)):\n",
        "    try:\n",
        "        img = cv2.imread(image_path)\n",
        "        if img is None:\n",
        "            raise ValueError(\"Image not found or cannot be read.\")\n",
        "        img = cv2.resize(img, (224, 224))\n",
        "        img = cv2.cvtColor(img, cv2.COLOR_BGR2RGB)\n",
        "\n",
        "        # Compute color histogram\n",
        "        hist = cv2.calcHist([img], [0, 1, 2], None, bins, [0, 256, 0, 256, 0, 256])\n",
        "        hist = cv2.normalize(hist, hist).flatten()\n",
        "\n",
        "        return hist\n",
        "\n",
        "    except Exception as e:\n",
        "        print(f\"Error: {image_path} => {e}\")\n",
        "        return None\n",
        "\n",
        "df = pd.read_csv(CSV_FILE)\n",
        "features, labels = [], []\n",
        "\n",
        "for _, row in df.iterrows():\n",
        "    img_path = os.path.join(TRAIN_DIR, row['image_id'])\n",
        "    hist = extract_color_histogram(img_path)\n",
        "    if hist is not None:\n",
        "        features.append(hist)\n",
        "        labels.append(row['soil_type'])\n",
        "\n",
        "# convert to numpy array\n",
        "features = np.array(features)\n",
        "\n",
        "# ecoding labels\n",
        "le = LabelEncoder()\n",
        "encoded_labels = le.fit_transform(labels)\n",
        "\n",
        "print(\"Features shape:\", features.shape)\n",
        "print(\"Encoded Labels shape:\", encoded_labels.shape)"
      ]
    }
  ],
  "metadata": {
    "colab": {
      "provenance": []
    },
    "kernelspec": {
      "display_name": "Python 3",
      "name": "python3"
    },
    "language_info": {
      "name": "python"
    }
  },
  "nbformat": 4,
  "nbformat_minor": 0
}
