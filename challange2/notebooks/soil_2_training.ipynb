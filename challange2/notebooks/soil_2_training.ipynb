{
  "nbformat": 4,
  "nbformat_minor": 0,
  "metadata": {
    "colab": {
      "provenance": []
    },
    "kernelspec": {
      "name": "python3",
      "display_name": "Python 3"
    },
    "language_info": {
      "name": "python"
    }
  },
  "cells": [
    {
      "cell_type": "code",
      "source": [
        "import zipfile\n",
        "import os\n",
        "\n",
        "zip_path = \"/content/soil-classification-part-2.zip\"\n",
        "with zipfile.ZipFile(zip_path, 'r') as zip_ref:\n",
        "    zip_ref.extractall(\"soil-classification\")"
      ],
      "metadata": {
        "id": "6ca4DD4XoFKn"
      },
      "execution_count": null,
      "outputs": []
    },
    {
      "cell_type": "code",
      "execution_count": null,
      "metadata": {
        "id": "jFgoa6zcoB5k"
      },
      "outputs": [],
      "source": [
        "import os\n",
        "from pathlib import Path\n",
        "import numpy as np\n",
        "from sklearn.svm import OneClassSVM\n",
        "from sklearn.preprocessing import StandardScaler\n",
        "from tensorflow.keras.applications import ResNet50\n",
        "from tensorflow.keras.preprocessing.image import load_img, img_to_array\n",
        "import joblib\n",
        "\n",
        "# Configuration\n",
        "model = ResNet50(weights='imagenet', include_top=False, pooling='avg')\n",
        "scaler = StandardScaler()\n",
        "img_size = (224, 224)\n",
        "train_path = '/content/soil-classification/soil_competition-2025/train'\n",
        "\n",
        "# Feature extraction\n",
        "def get_features(img_path):\n",
        "    img = load_img(img_path, target_size=img_size)\n",
        "    x = img_to_array(img).reshape(1, *img_size, 3)\n",
        "    return model.predict(x).flatten()\n",
        "\n",
        "# Process images\n",
        "features = []\n",
        "for img_file in Path(train_path).glob('*'):\n",
        "    if img_file.suffix.lower() in ('.jpg', '.jpeg', '.png'):\n",
        "        try:\n",
        "            features.append(get_features(str(img_file)))\n",
        "        except Exception as e:\n",
        "            print(f\"Error: {img_file.name} - {str(e)}\")\n",
        "\n",
        "# Train model\n",
        "X = scaler.fit_transform(features)\n",
        "ocsvm = OneClassSVM(kernel='rbf', nu=0.1).fit(X)\n",
        "joblib.dump((ocsvm, scaler), 'soil_model.pkl')\n",
        "print(f\"Trained on {len(X)} samples | Model saved\")\n"
      ]
    }
  ]
}