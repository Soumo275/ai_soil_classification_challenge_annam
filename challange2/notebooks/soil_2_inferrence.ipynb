{
  "nbformat": 4,
  "nbformat_minor": 0,
  "metadata": {
    "colab": {
      "provenance": []
    },
    "kernelspec": {
      "name": "python3",
      "display_name": "Python 3"
    },
    "language_info": {
      "name": "python"
    }
  },
  "cells": [
    {
      "cell_type": "code",
      "source": [
        "import zipfile\n",
        "import os\n",
        "\n",
        "zip_path = \"/content/soil-classification-part-2.zip\"\n",
        "with zipfile.ZipFile(zip_path, 'r') as zip_ref:\n",
        "    zip_ref.extractall(\"soil-classification\")"
      ],
      "metadata": {
        "id": "6ca4DD4XoFKn"
      },
      "execution_count": null,
      "outputs": []
    },
    {
      "cell_type": "code",
      "execution_count": null,
      "metadata": {
        "id": "jFgoa6zcoB5k"
      },
      "outputs": [],
      "source": [
        "from pathlib import Path\n",
        "import pandas as pd\n",
        "import numpy as np\n",
        "from tensorflow.keras.applications import ResNet50\n",
        "from tensorflow.keras.preprocessing.image import load_img\n",
        "import joblib\n",
        "\n",
        "# Config\n",
        "model = ResNet50(weights='imagenet', include_top=False, pooling='avg')\n",
        "df = pd.read_csv('/content/soil-classification/soil_competition-2025/test_ids.csv')\n",
        "clf, scaler = joblib.load('soil_ocsvm_model.pkl')\n",
        "\n",
        "# Feature extraction\n",
        "def extract_features(path):\n",
        "    img = load_img(path, target_size=(224, 224))\n",
        "    arr = np.expand_dims(img, axis=0)  # Add batch dimension\n",
        "    return model.predict(arr).flatten()\n",
        "\n",
        "# Prediction loop\n",
        "df['predicted_label'] = [\n",
        "    (1 if clf.predict(scaler.transform(extract_features(Path(test_dir)/row['image_id']).reshape(1,-1)))[0] == 1 else 0)\n",
        "    if Path.exists(Path(test_dir)/row['image_id']) else -1\n",
        "    for _, row in df.iterrows()\n",
        "]\n",
        "\n",
        "df.to_csv('test_predictions.csv', index=False)\n",
        "print(f\"✅ Saved {len(df)} predictions\")\n"
      ]
    }
  ]
}